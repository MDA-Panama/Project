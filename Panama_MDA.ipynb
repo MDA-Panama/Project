{
 "cells": [
  {
   "cell_type": "markdown",
   "id": "a605767f",
   "metadata": {},
   "source": [
    "# Setup"
   ]
  },
  {
   "cell_type": "code",
   "execution_count": 1,
   "id": "a02b3c75",
   "metadata": {},
   "outputs": [
    {
     "name": "stdout",
     "output_type": "stream",
     "text": [
      "Requirement already satisfied: pandas==1.1.5 in /Users/Pauline/.pyenv/versions/3.8.0/envs/mda4/lib/python3.8/site-packages (from -r https://raw.githubusercontent.com/MDA-Panama/Project/main/requirements.txt (line 1)) (1.1.5)\n",
      "Requirement already satisfied: matplotlib in /Users/Pauline/.pyenv/versions/3.8.0/envs/mda4/lib/python3.8/site-packages (from -r https://raw.githubusercontent.com/MDA-Panama/Project/main/requirements.txt (line 2)) (3.4.2)\n",
      "Requirement already satisfied: numpy==1.20.3 in /Users/Pauline/.pyenv/versions/3.8.0/envs/mda4/lib/python3.8/site-packages (from -r https://raw.githubusercontent.com/MDA-Panama/Project/main/requirements.txt (line 3)) (1.20.3)\n",
      "Requirement already satisfied: seaborn in /Users/Pauline/.pyenv/versions/3.8.0/envs/mda4/lib/python3.8/site-packages (from -r https://raw.githubusercontent.com/MDA-Panama/Project/main/requirements.txt (line 4)) (0.11.1)\n",
      "Requirement already satisfied: statsmodels==0.12.2 in /Users/Pauline/.pyenv/versions/3.8.0/envs/mda4/lib/python3.8/site-packages (from -r https://raw.githubusercontent.com/MDA-Panama/Project/main/requirements.txt (line 5)) (0.12.2)\n",
      "Requirement already satisfied: sklearn==0.0 in /Users/Pauline/.pyenv/versions/3.8.0/envs/mda4/lib/python3.8/site-packages (from -r https://raw.githubusercontent.com/MDA-Panama/Project/main/requirements.txt (line 6)) (0.0)\n",
      "Requirement already satisfied: scikit-learn==0.24.2 in /Users/Pauline/.pyenv/versions/3.8.0/envs/mda4/lib/python3.8/site-packages (from -r https://raw.githubusercontent.com/MDA-Panama/Project/main/requirements.txt (line 7)) (0.24.2)\n",
      "Requirement already satisfied: plotly==4.14.3 in /Users/Pauline/.pyenv/versions/3.8.0/envs/mda4/lib/python3.8/site-packages (from -r https://raw.githubusercontent.com/MDA-Panama/Project/main/requirements.txt (line 8)) (4.14.3)\n",
      "Requirement already satisfied: plotly-geo==1.0.0 in /Users/Pauline/.pyenv/versions/3.8.0/envs/mda4/lib/python3.8/site-packages (from -r https://raw.githubusercontent.com/MDA-Panama/Project/main/requirements.txt (line 9)) (1.0.0)\n",
      "Requirement already satisfied: ipywidgets in /Users/Pauline/.pyenv/versions/3.8.0/envs/mda4/lib/python3.8/site-packages (from -r https://raw.githubusercontent.com/MDA-Panama/Project/main/requirements.txt (line 10)) (7.6.3)\n",
      "Requirement already satisfied: xlrd in /Users/Pauline/.pyenv/versions/3.8.0/envs/mda4/lib/python3.8/site-packages (from -r https://raw.githubusercontent.com/MDA-Panama/Project/main/requirements.txt (line 11)) (2.0.1)\n",
      "Requirement already satisfied: boto3 in /Users/Pauline/.pyenv/versions/3.8.0/envs/mda4/lib/python3.8/site-packages (from -r https://raw.githubusercontent.com/MDA-Panama/Project/main/requirements.txt (line 12)) (1.17.84)\n",
      "Requirement already satisfied: fsspec in /Users/Pauline/.pyenv/versions/3.8.0/envs/mda4/lib/python3.8/site-packages (from -r https://raw.githubusercontent.com/MDA-Panama/Project/main/requirements.txt (line 13)) (2021.5.0)\n",
      "Requirement already satisfied: s3fs in /Users/Pauline/.pyenv/versions/3.8.0/envs/mda4/lib/python3.8/site-packages (from -r https://raw.githubusercontent.com/MDA-Panama/Project/main/requirements.txt (line 14)) (2021.5.0)\n",
      "Requirement already satisfied: python-dateutil>=2.7.3 in /Users/Pauline/.pyenv/versions/3.8.0/envs/mda4/lib/python3.8/site-packages (from pandas==1.1.5->-r https://raw.githubusercontent.com/MDA-Panama/Project/main/requirements.txt (line 1)) (2.8.1)\n",
      "Requirement already satisfied: pytz>=2017.2 in /Users/Pauline/.pyenv/versions/3.8.0/envs/mda4/lib/python3.8/site-packages (from pandas==1.1.5->-r https://raw.githubusercontent.com/MDA-Panama/Project/main/requirements.txt (line 1)) (2021.1)\n",
      "Requirement already satisfied: pyparsing>=2.2.1 in /Users/Pauline/.pyenv/versions/3.8.0/envs/mda4/lib/python3.8/site-packages (from matplotlib->-r https://raw.githubusercontent.com/MDA-Panama/Project/main/requirements.txt (line 2)) (2.4.7)\n",
      "Requirement already satisfied: kiwisolver>=1.0.1 in /Users/Pauline/.pyenv/versions/3.8.0/envs/mda4/lib/python3.8/site-packages (from matplotlib->-r https://raw.githubusercontent.com/MDA-Panama/Project/main/requirements.txt (line 2)) (1.3.1)\n",
      "Requirement already satisfied: pillow>=6.2.0 in /Users/Pauline/.pyenv/versions/3.8.0/envs/mda4/lib/python3.8/site-packages (from matplotlib->-r https://raw.githubusercontent.com/MDA-Panama/Project/main/requirements.txt (line 2)) (8.2.0)\n",
      "Requirement already satisfied: cycler>=0.10 in /Users/Pauline/.pyenv/versions/3.8.0/envs/mda4/lib/python3.8/site-packages (from matplotlib->-r https://raw.githubusercontent.com/MDA-Panama/Project/main/requirements.txt (line 2)) (0.10.0)\n",
      "Requirement already satisfied: scipy>=1.0 in /Users/Pauline/.pyenv/versions/3.8.0/envs/mda4/lib/python3.8/site-packages (from seaborn->-r https://raw.githubusercontent.com/MDA-Panama/Project/main/requirements.txt (line 4)) (1.6.3)\n",
      "Requirement already satisfied: patsy>=0.5 in /Users/Pauline/.pyenv/versions/3.8.0/envs/mda4/lib/python3.8/site-packages (from statsmodels==0.12.2->-r https://raw.githubusercontent.com/MDA-Panama/Project/main/requirements.txt (line 5)) (0.5.1)\n",
      "Requirement already satisfied: threadpoolctl>=2.0.0 in /Users/Pauline/.pyenv/versions/3.8.0/envs/mda4/lib/python3.8/site-packages (from scikit-learn==0.24.2->-r https://raw.githubusercontent.com/MDA-Panama/Project/main/requirements.txt (line 7)) (2.1.0)\n",
      "Requirement already satisfied: joblib>=0.11 in /Users/Pauline/.pyenv/versions/3.8.0/envs/mda4/lib/python3.8/site-packages (from scikit-learn==0.24.2->-r https://raw.githubusercontent.com/MDA-Panama/Project/main/requirements.txt (line 7)) (1.0.1)\n",
      "Requirement already satisfied: retrying>=1.3.3 in /Users/Pauline/.pyenv/versions/3.8.0/envs/mda4/lib/python3.8/site-packages (from plotly==4.14.3->-r https://raw.githubusercontent.com/MDA-Panama/Project/main/requirements.txt (line 8)) (1.3.3)\n",
      "Requirement already satisfied: six in /Users/Pauline/.pyenv/versions/3.8.0/envs/mda4/lib/python3.8/site-packages (from plotly==4.14.3->-r https://raw.githubusercontent.com/MDA-Panama/Project/main/requirements.txt (line 8)) (1.16.0)\n",
      "Requirement already satisfied: widgetsnbextension~=3.5.0 in /Users/Pauline/.pyenv/versions/3.8.0/envs/mda4/lib/python3.8/site-packages (from ipywidgets->-r https://raw.githubusercontent.com/MDA-Panama/Project/main/requirements.txt (line 10)) (3.5.1)\n",
      "Requirement already satisfied: ipython>=4.0.0; python_version >= \"3.3\" in /Users/Pauline/.pyenv/versions/3.8.0/envs/mda4/lib/python3.8/site-packages (from ipywidgets->-r https://raw.githubusercontent.com/MDA-Panama/Project/main/requirements.txt (line 10)) (7.24.0)\n",
      "Requirement already satisfied: ipykernel>=4.5.1 in /Users/Pauline/.pyenv/versions/3.8.0/envs/mda4/lib/python3.8/site-packages (from ipywidgets->-r https://raw.githubusercontent.com/MDA-Panama/Project/main/requirements.txt (line 10)) (5.5.5)\n",
      "Requirement already satisfied: jupyterlab-widgets>=1.0.0; python_version >= \"3.6\" in /Users/Pauline/.pyenv/versions/3.8.0/envs/mda4/lib/python3.8/site-packages (from ipywidgets->-r https://raw.githubusercontent.com/MDA-Panama/Project/main/requirements.txt (line 10)) (1.0.0)\n",
      "Requirement already satisfied: nbformat>=4.2.0 in /Users/Pauline/.pyenv/versions/3.8.0/envs/mda4/lib/python3.8/site-packages (from ipywidgets->-r https://raw.githubusercontent.com/MDA-Panama/Project/main/requirements.txt (line 10)) (5.1.3)\n",
      "Requirement already satisfied: traitlets>=4.3.1 in /Users/Pauline/.pyenv/versions/3.8.0/envs/mda4/lib/python3.8/site-packages (from ipywidgets->-r https://raw.githubusercontent.com/MDA-Panama/Project/main/requirements.txt (line 10)) (5.0.5)\n",
      "Requirement already satisfied: s3transfer<0.5.0,>=0.4.0 in /Users/Pauline/.pyenv/versions/3.8.0/envs/mda4/lib/python3.8/site-packages (from boto3->-r https://raw.githubusercontent.com/MDA-Panama/Project/main/requirements.txt (line 12)) (0.4.2)\n",
      "Requirement already satisfied: botocore<1.21.0,>=1.20.84 in /Users/Pauline/.pyenv/versions/3.8.0/envs/mda4/lib/python3.8/site-packages (from boto3->-r https://raw.githubusercontent.com/MDA-Panama/Project/main/requirements.txt (line 12)) (1.20.84)\n",
      "Requirement already satisfied: jmespath<1.0.0,>=0.7.1 in /Users/Pauline/.pyenv/versions/3.8.0/envs/mda4/lib/python3.8/site-packages (from boto3->-r https://raw.githubusercontent.com/MDA-Panama/Project/main/requirements.txt (line 12)) (0.10.0)\n",
      "Requirement already satisfied: aiobotocore>=1.0.1 in /Users/Pauline/.pyenv/versions/3.8.0/envs/mda4/lib/python3.8/site-packages (from s3fs->-r https://raw.githubusercontent.com/MDA-Panama/Project/main/requirements.txt (line 14)) (1.3.0)\n",
      "Requirement already satisfied: notebook>=4.4.1 in /Users/Pauline/.pyenv/versions/3.8.0/envs/mda4/lib/python3.8/site-packages (from widgetsnbextension~=3.5.0->ipywidgets->-r https://raw.githubusercontent.com/MDA-Panama/Project/main/requirements.txt (line 10)) (6.4.0)\n"
     ]
    },
    {
     "name": "stdout",
     "output_type": "stream",
     "text": [
      "Requirement already satisfied: backcall in /Users/Pauline/.pyenv/versions/3.8.0/envs/mda4/lib/python3.8/site-packages (from ipython>=4.0.0; python_version >= \"3.3\"->ipywidgets->-r https://raw.githubusercontent.com/MDA-Panama/Project/main/requirements.txt (line 10)) (0.2.0)\n",
      "Requirement already satisfied: jedi>=0.16 in /Users/Pauline/.pyenv/versions/3.8.0/envs/mda4/lib/python3.8/site-packages (from ipython>=4.0.0; python_version >= \"3.3\"->ipywidgets->-r https://raw.githubusercontent.com/MDA-Panama/Project/main/requirements.txt (line 10)) (0.18.0)\n",
      "Requirement already satisfied: appnope; sys_platform == \"darwin\" in /Users/Pauline/.pyenv/versions/3.8.0/envs/mda4/lib/python3.8/site-packages (from ipython>=4.0.0; python_version >= \"3.3\"->ipywidgets->-r https://raw.githubusercontent.com/MDA-Panama/Project/main/requirements.txt (line 10)) (0.1.2)\n",
      "Requirement already satisfied: setuptools>=18.5 in /Users/Pauline/.pyenv/versions/3.8.0/envs/mda4/lib/python3.8/site-packages (from ipython>=4.0.0; python_version >= \"3.3\"->ipywidgets->-r https://raw.githubusercontent.com/MDA-Panama/Project/main/requirements.txt (line 10)) (41.2.0)\n",
      "Requirement already satisfied: decorator in /Users/Pauline/.pyenv/versions/3.8.0/envs/mda4/lib/python3.8/site-packages (from ipython>=4.0.0; python_version >= \"3.3\"->ipywidgets->-r https://raw.githubusercontent.com/MDA-Panama/Project/main/requirements.txt (line 10)) (5.0.9)\n",
      "Requirement already satisfied: matplotlib-inline in /Users/Pauline/.pyenv/versions/3.8.0/envs/mda4/lib/python3.8/site-packages (from ipython>=4.0.0; python_version >= \"3.3\"->ipywidgets->-r https://raw.githubusercontent.com/MDA-Panama/Project/main/requirements.txt (line 10)) (0.1.2)\n",
      "Requirement already satisfied: pexpect>4.3; sys_platform != \"win32\" in /Users/Pauline/.pyenv/versions/3.8.0/envs/mda4/lib/python3.8/site-packages (from ipython>=4.0.0; python_version >= \"3.3\"->ipywidgets->-r https://raw.githubusercontent.com/MDA-Panama/Project/main/requirements.txt (line 10)) (4.8.0)\n",
      "Requirement already satisfied: pygments in /Users/Pauline/.pyenv/versions/3.8.0/envs/mda4/lib/python3.8/site-packages (from ipython>=4.0.0; python_version >= \"3.3\"->ipywidgets->-r https://raw.githubusercontent.com/MDA-Panama/Project/main/requirements.txt (line 10)) (2.9.0)\n",
      "Requirement already satisfied: prompt-toolkit!=3.0.0,!=3.0.1,<3.1.0,>=2.0.0 in /Users/Pauline/.pyenv/versions/3.8.0/envs/mda4/lib/python3.8/site-packages (from ipython>=4.0.0; python_version >= \"3.3\"->ipywidgets->-r https://raw.githubusercontent.com/MDA-Panama/Project/main/requirements.txt (line 10)) (3.0.18)\n",
      "Requirement already satisfied: pickleshare in /Users/Pauline/.pyenv/versions/3.8.0/envs/mda4/lib/python3.8/site-packages (from ipython>=4.0.0; python_version >= \"3.3\"->ipywidgets->-r https://raw.githubusercontent.com/MDA-Panama/Project/main/requirements.txt (line 10)) (0.7.5)\n",
      "Requirement already satisfied: jupyter-client in /Users/Pauline/.pyenv/versions/3.8.0/envs/mda4/lib/python3.8/site-packages (from ipykernel>=4.5.1->ipywidgets->-r https://raw.githubusercontent.com/MDA-Panama/Project/main/requirements.txt (line 10)) (6.1.12)\n",
      "Requirement already satisfied: tornado>=4.2 in /Users/Pauline/.pyenv/versions/3.8.0/envs/mda4/lib/python3.8/site-packages (from ipykernel>=4.5.1->ipywidgets->-r https://raw.githubusercontent.com/MDA-Panama/Project/main/requirements.txt (line 10)) (6.1)\n",
      "Requirement already satisfied: ipython-genutils in /Users/Pauline/.pyenv/versions/3.8.0/envs/mda4/lib/python3.8/site-packages (from nbformat>=4.2.0->ipywidgets->-r https://raw.githubusercontent.com/MDA-Panama/Project/main/requirements.txt (line 10)) (0.2.0)\n",
      "Requirement already satisfied: jsonschema!=2.5.0,>=2.4 in /Users/Pauline/.pyenv/versions/3.8.0/envs/mda4/lib/python3.8/site-packages (from nbformat>=4.2.0->ipywidgets->-r https://raw.githubusercontent.com/MDA-Panama/Project/main/requirements.txt (line 10)) (3.2.0)\n",
      "Requirement already satisfied: jupyter-core in /Users/Pauline/.pyenv/versions/3.8.0/envs/mda4/lib/python3.8/site-packages (from nbformat>=4.2.0->ipywidgets->-r https://raw.githubusercontent.com/MDA-Panama/Project/main/requirements.txt (line 10)) (4.7.1)\n",
      "Requirement already satisfied: urllib3<1.27,>=1.25.4 in /Users/Pauline/.pyenv/versions/3.8.0/envs/mda4/lib/python3.8/site-packages (from botocore<1.21.0,>=1.20.84->boto3->-r https://raw.githubusercontent.com/MDA-Panama/Project/main/requirements.txt (line 12)) (1.26.5)\n",
      "Requirement already satisfied: aiohttp>=3.3.1 in /Users/Pauline/.pyenv/versions/3.8.0/envs/mda4/lib/python3.8/site-packages (from aiobotocore>=1.0.1->s3fs->-r https://raw.githubusercontent.com/MDA-Panama/Project/main/requirements.txt (line 14)) (3.7.4.post0)\n",
      "Requirement already satisfied: wrapt>=1.10.10 in /Users/Pauline/.pyenv/versions/3.8.0/envs/mda4/lib/python3.8/site-packages (from aiobotocore>=1.0.1->s3fs->-r https://raw.githubusercontent.com/MDA-Panama/Project/main/requirements.txt (line 14)) (1.12.1)\n",
      "Requirement already satisfied: aioitertools>=0.5.1 in /Users/Pauline/.pyenv/versions/3.8.0/envs/mda4/lib/python3.8/site-packages (from aiobotocore>=1.0.1->s3fs->-r https://raw.githubusercontent.com/MDA-Panama/Project/main/requirements.txt (line 14)) (0.7.1)\n",
      "Requirement already satisfied: terminado>=0.8.3 in /Users/Pauline/.pyenv/versions/3.8.0/envs/mda4/lib/python3.8/site-packages (from notebook>=4.4.1->widgetsnbextension~=3.5.0->ipywidgets->-r https://raw.githubusercontent.com/MDA-Panama/Project/main/requirements.txt (line 10)) (0.10.0)\n",
      "Requirement already satisfied: jinja2 in /Users/Pauline/.pyenv/versions/3.8.0/envs/mda4/lib/python3.8/site-packages (from notebook>=4.4.1->widgetsnbextension~=3.5.0->ipywidgets->-r https://raw.githubusercontent.com/MDA-Panama/Project/main/requirements.txt (line 10)) (3.0.1)\n",
      "Requirement already satisfied: argon2-cffi in /Users/Pauline/.pyenv/versions/3.8.0/envs/mda4/lib/python3.8/site-packages (from notebook>=4.4.1->widgetsnbextension~=3.5.0->ipywidgets->-r https://raw.githubusercontent.com/MDA-Panama/Project/main/requirements.txt (line 10)) (20.1.0)\n",
      "Requirement already satisfied: pyzmq>=17 in /Users/Pauline/.pyenv/versions/3.8.0/envs/mda4/lib/python3.8/site-packages (from notebook>=4.4.1->widgetsnbextension~=3.5.0->ipywidgets->-r https://raw.githubusercontent.com/MDA-Panama/Project/main/requirements.txt (line 10)) (22.1.0)\n",
      "Requirement already satisfied: prometheus-client in /Users/Pauline/.pyenv/versions/3.8.0/envs/mda4/lib/python3.8/site-packages (from notebook>=4.4.1->widgetsnbextension~=3.5.0->ipywidgets->-r https://raw.githubusercontent.com/MDA-Panama/Project/main/requirements.txt (line 10)) (0.10.1)\n",
      "Requirement already satisfied: nbconvert in /Users/Pauline/.pyenv/versions/3.8.0/envs/mda4/lib/python3.8/site-packages (from notebook>=4.4.1->widgetsnbextension~=3.5.0->ipywidgets->-r https://raw.githubusercontent.com/MDA-Panama/Project/main/requirements.txt (line 10)) (6.0.7)\n",
      "Requirement already satisfied: Send2Trash>=1.5.0 in /Users/Pauline/.pyenv/versions/3.8.0/envs/mda4/lib/python3.8/site-packages (from notebook>=4.4.1->widgetsnbextension~=3.5.0->ipywidgets->-r https://raw.githubusercontent.com/MDA-Panama/Project/main/requirements.txt (line 10)) (1.5.0)\n",
      "Requirement already satisfied: parso<0.9.0,>=0.8.0 in /Users/Pauline/.pyenv/versions/3.8.0/envs/mda4/lib/python3.8/site-packages (from jedi>=0.16->ipython>=4.0.0; python_version >= \"3.3\"->ipywidgets->-r https://raw.githubusercontent.com/MDA-Panama/Project/main/requirements.txt (line 10)) (0.8.2)\n",
      "Requirement already satisfied: ptyprocess>=0.5 in /Users/Pauline/.pyenv/versions/3.8.0/envs/mda4/lib/python3.8/site-packages (from pexpect>4.3; sys_platform != \"win32\"->ipython>=4.0.0; python_version >= \"3.3\"->ipywidgets->-r https://raw.githubusercontent.com/MDA-Panama/Project/main/requirements.txt (line 10)) (0.7.0)\n",
      "Requirement already satisfied: wcwidth in /Users/Pauline/.pyenv/versions/3.8.0/envs/mda4/lib/python3.8/site-packages (from prompt-toolkit!=3.0.0,!=3.0.1,<3.1.0,>=2.0.0->ipython>=4.0.0; python_version >= \"3.3\"->ipywidgets->-r https://raw.githubusercontent.com/MDA-Panama/Project/main/requirements.txt (line 10)) (0.2.5)\n",
      "Requirement already satisfied: pyrsistent>=0.14.0 in /Users/Pauline/.pyenv/versions/3.8.0/envs/mda4/lib/python3.8/site-packages (from jsonschema!=2.5.0,>=2.4->nbformat>=4.2.0->ipywidgets->-r https://raw.githubusercontent.com/MDA-Panama/Project/main/requirements.txt (line 10)) (0.17.3)\n",
      "Requirement already satisfied: attrs>=17.4.0 in /Users/Pauline/.pyenv/versions/3.8.0/envs/mda4/lib/python3.8/site-packages (from jsonschema!=2.5.0,>=2.4->nbformat>=4.2.0->ipywidgets->-r https://raw.githubusercontent.com/MDA-Panama/Project/main/requirements.txt (line 10)) (21.2.0)\n"
     ]
    },
    {
     "name": "stdout",
     "output_type": "stream",
     "text": [
      "Requirement already satisfied: yarl<2.0,>=1.0 in /Users/Pauline/.pyenv/versions/3.8.0/envs/mda4/lib/python3.8/site-packages (from aiohttp>=3.3.1->aiobotocore>=1.0.1->s3fs->-r https://raw.githubusercontent.com/MDA-Panama/Project/main/requirements.txt (line 14)) (1.6.3)\n",
      "Requirement already satisfied: chardet<5.0,>=2.0 in /Users/Pauline/.pyenv/versions/3.8.0/envs/mda4/lib/python3.8/site-packages (from aiohttp>=3.3.1->aiobotocore>=1.0.1->s3fs->-r https://raw.githubusercontent.com/MDA-Panama/Project/main/requirements.txt (line 14)) (4.0.0)\n",
      "Requirement already satisfied: typing-extensions>=3.6.5 in /Users/Pauline/.pyenv/versions/3.8.0/envs/mda4/lib/python3.8/site-packages (from aiohttp>=3.3.1->aiobotocore>=1.0.1->s3fs->-r https://raw.githubusercontent.com/MDA-Panama/Project/main/requirements.txt (line 14)) (3.10.0.0)\n",
      "Requirement already satisfied: multidict<7.0,>=4.5 in /Users/Pauline/.pyenv/versions/3.8.0/envs/mda4/lib/python3.8/site-packages (from aiohttp>=3.3.1->aiobotocore>=1.0.1->s3fs->-r https://raw.githubusercontent.com/MDA-Panama/Project/main/requirements.txt (line 14)) (5.1.0)\n",
      "Requirement already satisfied: async-timeout<4.0,>=3.0 in /Users/Pauline/.pyenv/versions/3.8.0/envs/mda4/lib/python3.8/site-packages (from aiohttp>=3.3.1->aiobotocore>=1.0.1->s3fs->-r https://raw.githubusercontent.com/MDA-Panama/Project/main/requirements.txt (line 14)) (3.0.1)\n",
      "Requirement already satisfied: MarkupSafe>=2.0 in /Users/Pauline/.pyenv/versions/3.8.0/envs/mda4/lib/python3.8/site-packages (from jinja2->notebook>=4.4.1->widgetsnbextension~=3.5.0->ipywidgets->-r https://raw.githubusercontent.com/MDA-Panama/Project/main/requirements.txt (line 10)) (2.0.1)\n",
      "Requirement already satisfied: cffi>=1.0.0 in /Users/Pauline/.pyenv/versions/3.8.0/envs/mda4/lib/python3.8/site-packages (from argon2-cffi->notebook>=4.4.1->widgetsnbextension~=3.5.0->ipywidgets->-r https://raw.githubusercontent.com/MDA-Panama/Project/main/requirements.txt (line 10)) (1.14.5)\n",
      "Requirement already satisfied: mistune<2,>=0.8.1 in /Users/Pauline/.pyenv/versions/3.8.0/envs/mda4/lib/python3.8/site-packages (from nbconvert->notebook>=4.4.1->widgetsnbextension~=3.5.0->ipywidgets->-r https://raw.githubusercontent.com/MDA-Panama/Project/main/requirements.txt (line 10)) (0.8.4)\n",
      "Requirement already satisfied: pandocfilters>=1.4.1 in /Users/Pauline/.pyenv/versions/3.8.0/envs/mda4/lib/python3.8/site-packages (from nbconvert->notebook>=4.4.1->widgetsnbextension~=3.5.0->ipywidgets->-r https://raw.githubusercontent.com/MDA-Panama/Project/main/requirements.txt (line 10)) (1.4.3)\n",
      "Requirement already satisfied: entrypoints>=0.2.2 in /Users/Pauline/.pyenv/versions/3.8.0/envs/mda4/lib/python3.8/site-packages (from nbconvert->notebook>=4.4.1->widgetsnbextension~=3.5.0->ipywidgets->-r https://raw.githubusercontent.com/MDA-Panama/Project/main/requirements.txt (line 10)) (0.3)\n",
      "Requirement already satisfied: defusedxml in /Users/Pauline/.pyenv/versions/3.8.0/envs/mda4/lib/python3.8/site-packages (from nbconvert->notebook>=4.4.1->widgetsnbextension~=3.5.0->ipywidgets->-r https://raw.githubusercontent.com/MDA-Panama/Project/main/requirements.txt (line 10)) (0.7.1)\n",
      "Requirement already satisfied: testpath in /Users/Pauline/.pyenv/versions/3.8.0/envs/mda4/lib/python3.8/site-packages (from nbconvert->notebook>=4.4.1->widgetsnbextension~=3.5.0->ipywidgets->-r https://raw.githubusercontent.com/MDA-Panama/Project/main/requirements.txt (line 10)) (0.5.0)\n",
      "Requirement already satisfied: nbclient<0.6.0,>=0.5.0 in /Users/Pauline/.pyenv/versions/3.8.0/envs/mda4/lib/python3.8/site-packages (from nbconvert->notebook>=4.4.1->widgetsnbextension~=3.5.0->ipywidgets->-r https://raw.githubusercontent.com/MDA-Panama/Project/main/requirements.txt (line 10)) (0.5.3)\n",
      "Requirement already satisfied: bleach in /Users/Pauline/.pyenv/versions/3.8.0/envs/mda4/lib/python3.8/site-packages (from nbconvert->notebook>=4.4.1->widgetsnbextension~=3.5.0->ipywidgets->-r https://raw.githubusercontent.com/MDA-Panama/Project/main/requirements.txt (line 10)) (3.3.0)\n",
      "Requirement already satisfied: jupyterlab-pygments in /Users/Pauline/.pyenv/versions/3.8.0/envs/mda4/lib/python3.8/site-packages (from nbconvert->notebook>=4.4.1->widgetsnbextension~=3.5.0->ipywidgets->-r https://raw.githubusercontent.com/MDA-Panama/Project/main/requirements.txt (line 10)) (0.1.2)\n",
      "Requirement already satisfied: idna>=2.0 in /Users/Pauline/.pyenv/versions/3.8.0/envs/mda4/lib/python3.8/site-packages (from yarl<2.0,>=1.0->aiohttp>=3.3.1->aiobotocore>=1.0.1->s3fs->-r https://raw.githubusercontent.com/MDA-Panama/Project/main/requirements.txt (line 14)) (3.2)\n",
      "Requirement already satisfied: pycparser in /Users/Pauline/.pyenv/versions/3.8.0/envs/mda4/lib/python3.8/site-packages (from cffi>=1.0.0->argon2-cffi->notebook>=4.4.1->widgetsnbextension~=3.5.0->ipywidgets->-r https://raw.githubusercontent.com/MDA-Panama/Project/main/requirements.txt (line 10)) (2.20)\n",
      "Requirement already satisfied: async-generator in /Users/Pauline/.pyenv/versions/3.8.0/envs/mda4/lib/python3.8/site-packages (from nbclient<0.6.0,>=0.5.0->nbconvert->notebook>=4.4.1->widgetsnbextension~=3.5.0->ipywidgets->-r https://raw.githubusercontent.com/MDA-Panama/Project/main/requirements.txt (line 10)) (1.10)\n",
      "Requirement already satisfied: nest-asyncio in /Users/Pauline/.pyenv/versions/3.8.0/envs/mda4/lib/python3.8/site-packages (from nbclient<0.6.0,>=0.5.0->nbconvert->notebook>=4.4.1->widgetsnbextension~=3.5.0->ipywidgets->-r https://raw.githubusercontent.com/MDA-Panama/Project/main/requirements.txt (line 10)) (1.5.1)\n",
      "Requirement already satisfied: packaging in /Users/Pauline/.pyenv/versions/3.8.0/envs/mda4/lib/python3.8/site-packages (from bleach->nbconvert->notebook>=4.4.1->widgetsnbextension~=3.5.0->ipywidgets->-r https://raw.githubusercontent.com/MDA-Panama/Project/main/requirements.txt (line 10)) (20.9)\n",
      "Requirement already satisfied: webencodings in /Users/Pauline/.pyenv/versions/3.8.0/envs/mda4/lib/python3.8/site-packages (from bleach->nbconvert->notebook>=4.4.1->widgetsnbextension~=3.5.0->ipywidgets->-r https://raw.githubusercontent.com/MDA-Panama/Project/main/requirements.txt (line 10)) (0.5.1)\n",
      "\u001b[33mWARNING: You are using pip version 19.2.3, however version 21.1.2 is available.\n",
      "You should consider upgrading via the 'pip install --upgrade pip' command.\u001b[0m\n",
      "Note: you may need to restart the kernel to use updated packages.\n"
     ]
    }
   ],
   "source": [
    "pip install -r \"https://raw.githubusercontent.com/MDA-Panama/Project/main/requirements.txt\""
   ]
  },
  {
   "cell_type": "code",
   "execution_count": 2,
   "id": "0792451a",
   "metadata": {},
   "outputs": [
    {
     "name": "stderr",
     "output_type": "stream",
     "text": [
      "/Users/Pauline/.pyenv/versions/3.8.0/envs/mda4/lib/python3.8/site-packages/pandas/compat/__init__.py:120: UserWarning: Could not import the lzma module. Your installed Python is incomplete. Attempting to use lzma compression will result in a RuntimeError.\n",
      "  warnings.warn(msg)\n"
     ]
    }
   ],
   "source": [
    "import pandas as pd\n",
    "from pandas.plotting import parallel_coordinates\n",
    "import matplotlib.pyplot as plt\n",
    "import numpy as np\n",
    "import seaborn as sns; sns.set()\n",
    "import warnings\n",
    "import statistics as stats\n",
    "import statsmodels.api as sm\n",
    "import statsmodels.formula.api as smf\n",
    "from sklearn.decomposition import PCA\n",
    "from sklearn.preprocessing import StandardScaler\n",
    "import plotly as py\n",
    "from plotly.offline import download_plotlyjs,init_notebook_mode, plot,iplot\n",
    "import plotly.graph_objs as go\n",
    "from  ipywidgets import interact, interactive, fixed, interact_manual, Checkbox\n",
    "import plotly.express as px\n",
    "import warnings\n",
    "import boto3\n",
    "warnings.filterwarnings('ignore')"
   ]
  },
  {
   "cell_type": "code",
   "execution_count": 3,
   "id": "22dcf53e",
   "metadata": {},
   "outputs": [],
   "source": [
    "s3 = boto3.client('s3')"
   ]
  },
  {
   "cell_type": "markdown",
   "id": "b8a1d899",
   "metadata": {},
   "source": [
    "# Data setup"
   ]
  },
  {
   "cell_type": "markdown",
   "id": "13d665e0",
   "metadata": {},
   "source": [
    "The data (i.e., the CO2 per capita, ghg per capita, methane per capita, NO2 per capita columns) is only complete between ranges 1990 and 2016, so we'll have to remove the rest."
   ]
  },
  {
   "cell_type": "code",
   "execution_count": 4,
   "id": "b44d8de0",
   "metadata": {},
   "outputs": [
    {
     "name": "stdout",
     "output_type": "stream",
     "text": [
      "6089\n"
     ]
    },
    {
     "data": {
      "text/plain": [
       "Int64Index([ 4962,  4963,  4964,  4965,  4966,  4967,  4968,  4969,  4970,\n",
       "             4971,\n",
       "            ...\n",
       "            23168, 23169, 23170, 23171, 23172, 23173, 23174, 23175, 23176,\n",
       "            23177],\n",
       "           dtype='int64', length=168)"
      ]
     },
     "execution_count": 4,
     "metadata": {},
     "output_type": "execute_result"
    }
   ],
   "source": [
    "emissions0 = pd.read_csv('s3://s3grouppanama/Data/emissions.csv')\n",
    "emissions1 = emissions0[emissions0['year'] <= 2016]\n",
    "emissions2 = emissions1[emissions1['year'] >= 1990]\n",
    "print(len(emissions2))\n",
    "emissions2.index[pd.isnull(emissions2['co2_per_capita']) == True]"
   ]
  },
  {
   "cell_type": "markdown",
   "id": "0f300ba5",
   "metadata": {},
   "source": [
    "Seems there's still missing data. Indeed, some countries did not report data at all. "
   ]
  },
  {
   "cell_type": "code",
   "execution_count": null,
   "id": "7f0cdb8c",
   "metadata": {
    "scrolled": true
   },
   "outputs": [],
   "source": [
    "emissions3 = emissions2.dropna( how='any',\n",
    "                    subset=['co2_per_capita', 'ghg_per_capita', 'methane_per_capita', 'nitrous_oxide_per_capita'])\n",
    "display(emissions3)"
   ]
  },
  {
   "cell_type": "markdown",
   "id": "8b2817cc",
   "metadata": {},
   "source": [
    "Now for the energy dataset. This dataset has information between 1990 and 2019, but we're trimming it down to 2016 to match the emissions dataset. Important: <ol>\n",
    "<li>Renewables_share = solarshare+windshare+hydroshare+otherrenewables </li>\n",
    "<li>fossilshare = coalshare + gasshare + oilshare </li>\n",
    "<li>lowcarbonshare = renewablesshare + nuclearshare </li> </ol>"
   ]
  },
  {
   "cell_type": "code",
   "execution_count": null,
   "id": "25b95f12",
   "metadata": {},
   "outputs": [],
   "source": [
    "energy0 = pd.read_csv('s3://s3grouppanama/Data/energy.csv')\n",
    "energy1 = energy0[energy0['year'] <= 2016]\n",
    "energy2 = energy1[energy1['year'] >= 1990]"
   ]
  },
  {
   "cell_type": "markdown",
   "id": "9dfb9df7",
   "metadata": {},
   "source": [
    "However, we can even see from just the display that this one also has countries without any data, so we'll do the same as before but now for the relevant variables here. In this case, all variables are relevant so we have to remove all countries with any missing values."
   ]
  },
  {
   "cell_type": "code",
   "execution_count": null,
   "id": "d0ea0d68",
   "metadata": {
    "scrolled": true
   },
   "outputs": [],
   "source": [
    "energy3 = energy2.dropna()\n",
    "display(energy3)"
   ]
  },
  {
   "cell_type": "markdown",
   "id": "912d0f9b",
   "metadata": {},
   "source": [
    "Now we make the main dataset."
   ]
  },
  {
   "cell_type": "code",
   "execution_count": null,
   "id": "b47ee4fa",
   "metadata": {
    "scrolled": true
   },
   "outputs": [],
   "source": [
    "data0 = pd.merge(emissions3, energy3,  how='inner', on=['country','year'])\n",
    "data0 = data0[data0['country']!=\"World\"]\n",
    "display(data0)"
   ]
  },
  {
   "cell_type": "markdown",
   "id": "631d6355",
   "metadata": {},
   "source": [
    "Strangely, certain countries have negative ghg values. Let's take a look at what countries these are."
   ]
  },
  {
   "cell_type": "code",
   "execution_count": null,
   "id": "4995a065",
   "metadata": {},
   "outputs": [],
   "source": [
    "data0.loc[data0[\"total_ghg\"]<=0, [\"nitrous_oxide\",\"co2\",\"methane\", \"total_ghg\", \"country\", \"year\"]]"
   ]
  },
  {
   "cell_type": "markdown",
   "id": "cf418009",
   "metadata": {},
   "source": [
    "So Chile, Latvia, and Romania have negative ghg emissions for certain years. Given that their emissions of CO2, methane, and NO2/NO3 are non-negative. We cannot explain this anomaly, so we will leave out these countries."
   ]
  },
  {
   "cell_type": "code",
   "execution_count": null,
   "id": "8416e8cb",
   "metadata": {},
   "outputs": [],
   "source": [
    "data0 = data0[data0.country != \"Chile\"]\n",
    "data0 = data0[data0.country != \"Latvia\"]\n",
    "data0 = data0[data0.country != \"Romania\"]\n",
    "display(data0)\n",
    "print(\"Final number of countries in the dataset:\",len(set(data0.country)))"
   ]
  },
  {
   "cell_type": "markdown",
   "id": "07834fb2",
   "metadata": {},
   "source": [
    "#  Let's play around with the data to get a feel of it"
   ]
  },
  {
   "cell_type": "markdown",
   "id": "b0411643",
   "metadata": {},
   "source": [
    "This world map shows for which countries we have information and for which countries we don't. The data is pretty complete but it's clear we can't make inferences about Africa and certain places in Asia. We can also get an idea of the energy production setup of the countries as well as how much greenhouse gasses (per capita) they produce."
   ]
  },
  {
   "cell_type": "code",
   "execution_count": null,
   "id": "d910f09a",
   "metadata": {},
   "outputs": [],
   "source": [
    "country = pd.read_excel('s3://s3grouppanama/Data/country2.xls')\n",
    "data1 = pd.merge(data0, country, how='inner', on=['country'])\n",
    "variables = {'renewables_share_energy': 'Renewables share of energy',\n",
    "             'nuclear_share_energy': 'Nuclear share of energy',\n",
    "             'fossil_share_energy': 'fossil share of energy',\n",
    "            'co2_per_capita' : 'CO2 per capita'}\n",
    "year = list(range(1990,2016))\n",
    "v_key= list([\"renewables_share_energy\",\"fossil_share_energy\",\"nuclear_share_energy\",\"co2_per_capita\"])\n",
    "def f(year, v_key):\n",
    "    data=data1[data1['year']==year]\n",
    "    data1map=dict(type='choropleth',\n",
    "         locations=data['country'],\n",
    "         locationmode= 'country names',\n",
    "         colorscale='sunset',\n",
    "         text=data['country'],\n",
    "         z=data[v_key],\n",
    "         marker=dict(line=dict(color='rgb(300,300,300)', width=1)),\n",
    "         colorbar={'title': variables[v_key]})  \n",
    "    layout=dict(geo={'scope' : 'world'}) \n",
    "    choromap=go.Figure(data=[data1map], layout=layout) \n",
    "    choromap.show() \n",
    "interactive(f, year=year, v_key = v_key)"
   ]
  },
  {
   "cell_type": "markdown",
   "id": "449e4d78",
   "metadata": {},
   "source": [
    "This line chart displays the evolution over time of the energy shares by country. This evolution is quite stable, suggesting that if we find an effect, it likely will not be large. Also, most countries run primarily on fossil fuels, which isn't really a surprise. Exceptions such as Norway and France exist of course."
   ]
  },
  {
   "cell_type": "code",
   "execution_count": null,
   "id": "36242cd8",
   "metadata": {
    "scrolled": true
   },
   "outputs": [],
   "source": [
    "country = sorted(list(set(data0['country'])))\n",
    "\n",
    "df = ['nuclear_share_energy','renewables_share_energy','fossil_share_energy']\n",
    "\n",
    "m_data0 = pd.melt(data0, id_vars = [\"country\", \"year\"], value_vars = df)\n",
    "\n",
    "def f(country):\n",
    "    plt.figure(figsize=(10,5))\n",
    "\n",
    "    sns.lineplot(x='year',y='value', data=m_data0[m_data0['country']==country],legend='auto', hue = \"variable\")\n",
    "    plt.ylim(-5, 105)\n",
    "    plt.xlim(1989, None) \n",
    "interactive(f,country=country)\n"
   ]
  },
  {
   "cell_type": "markdown",
   "id": "b069253b",
   "metadata": {},
   "source": [
    "These line charts describe the emitted greenhouse gases. You may notice some strange phenomena where \"greenhouse gases per capita\" (ghg_per_capita) are lower than \"CO2 per capita\" (co2_per_capita). This, like the negative ghg-values we removed, is something we cannot explain and is likely due to the way ghg_per_capita was calculated (but we do not have that information). The trends fluctuate more than the energy shares. From the parallel coordinates plot, we can guess that ghg_per_capita will likely be correlated to co2_per_capita."
   ]
  },
  {
   "cell_type": "code",
   "execution_count": null,
   "id": "2ad92858",
   "metadata": {
    "scrolled": true
   },
   "outputs": [],
   "source": [
    "country = sorted(list(set(data0['country'])))\n",
    "\n",
    "df = ['ghg_per_capita','co2_per_capita','methane_per_capita','nitrous_oxide_per_capita']\n",
    "\n",
    "m_data0 = pd.melt(data0, id_vars = [\"country\", \"year\"], value_vars = df)\n",
    "\n",
    "def f(country):\n",
    "    plt.figure(figsize=(10,5))\n",
    "\n",
    "    sns.lineplot(x='year',y='value', data=m_data0[m_data0['country']==country],legend='auto', hue = \"variable\")\n",
    "    plt.ylim(-1, 40)\n",
    "    plt.xlim(1989, None) \n",
    "interactive(f,country=country)\n"
   ]
  },
  {
   "cell_type": "markdown",
   "id": "f6f31a6f",
   "metadata": {},
   "source": [
    "# Exploring the outcome variables"
   ]
  },
  {
   "cell_type": "markdown",
   "id": "34f0a74c",
   "metadata": {},
   "source": [
    "Let's analyse the distribution of our outcome variables first. <br>\n",
    "There are four candidates: <ol>\n",
    "<li>ghg_per_capita: Total greenhouse gas production per capita for a given year, expressed in tonnes of CO2 equivalent greenhouse effect.Interestingly, this quantity is not the sum of the other three. It is systematically higher than any of them, but not higher than their sum. </li>\n",
    "<li>co2_per_capita: Total CO2 production per capita for a given year, expressed in tonnes. This is by far the largest of the three in magnitude. </li>\n",
    "<li>methane_per_capita: Total methane (CH4) production per capita for a given year, expressed in tonnes of CO2 equivalent greenhouse effect. </li>\n",
    "<li>nitrous_oxide_per_capita: Total methane (NO2/NO3) production per capita for a given year, expressed in tonnes of CO2 equivalent greenhouse effect. </li></ol>\n",
    "\n",
    "All four have similar right-skewed distributions. "
   ]
  },
  {
   "cell_type": "code",
   "execution_count": null,
   "id": "a0288f5e",
   "metadata": {},
   "outputs": [],
   "source": [
    "plt.figure(figsize=(20,5))\n",
    "plt.subplot(1, 2, 1)\n",
    "f1 = sns.histplot(data0.ghg_per_capita)\n",
    "f1.set(xlabel='Greenhouse gas production per capita')\n",
    "plt.subplot(1, 2, 2)\n",
    "f2=sns.histplot(data0.co2_per_capita)\n",
    "f2.set(xlabel='CO2 production per capita')\n",
    "\n",
    "plt.figure(figsize=(20,5))\n",
    "plt.subplot(1, 2, 1)\n",
    "f3=sns.histplot(data0.methane_per_capita)\n",
    "f3.set(xlabel='Methane (CH4) production per capita')\n",
    "plt.subplot(1, 2, 2)\n",
    "f4=sns.histplot(data0.nitrous_oxide_per_capita)\n",
    "f4.set(xlabel='Nitrous oxide (NO2/NO3) production per capita'); \n"
   ]
  },
  {
   "cell_type": "markdown",
   "id": "20eebcbc",
   "metadata": {},
   "source": [
    "Let's take a look at the correlation structure of our outcome variables. As expected, they're positively correlated. CO2 is highly correlated with ghg (r = 0.88), suggesting a lot of the emitted greenhouse gasses are CO2 (which makes sense looking at the magnitudes of the emissions). This trend is also visible in the parallel coordinates plot (where one line represents one observation (year), and the lines are coloured by country). For this analysis, we will only be regressing ghg_per_capita. <br>"
   ]
  },
  {
   "cell_type": "code",
   "execution_count": null,
   "id": "3374d390",
   "metadata": {
    "scrolled": true
   },
   "outputs": [],
   "source": [
    "plt.figure(figsize=(10,7))\n",
    "print(data0[['ghg_per_capita','co2_per_capita','methane_per_capita', 'nitrous_oxide_per_capita']].corr())\n",
    "year = range(1992, 2017)\n",
    "country = list(set(data0['country']))\n",
    "p = (data0[(data0['country'].isin(country))] .loc[:, ['country', 'co2_per_capita','ghg_per_capita','methane_per_capita', 'nitrous_oxide_per_capita']])\n",
    "parallel_coordinates(p, 'country')\n",
    "plt.gca().legend_.remove()"
   ]
  },
  {
   "cell_type": "markdown",
   "id": "0dc7322b",
   "metadata": {},
   "source": [
    "<p> Although we're not regressing against time, it is worth it taking a look at the evolution of the emissions between 1990 and 2016. (Note that this cell can take a good minute to run!). </p>\n",
    "<p>The overall evolution of greenhouse gas per capita (ghg_per_capita) is chaotic, but it seems to be increasing to a peak in 2004, after which it goes down again. This evolution can be seen in a lot (although not all) of the individual countries as well, such as Canada, Belgium, Belarus, and Egypt. Other countries show a wide variety of trends.</p>\n"
   ]
  },
  {
   "cell_type": "code",
   "execution_count": null,
   "id": "a459b73b",
   "metadata": {},
   "outputs": [],
   "source": [
    "sns.catplot(x=\"year\", y=\"ghg_per_capita\", data=data0, kind = \"swarm\", s=1.4)\n",
    "plt.xticks(rotation=90)\n",
    "sns.catplot(x=\"year\", y=\"ghg_per_capita\", col=\"country\", col_wrap=4, sharey=False, data=data0, kind = \"swarm\");"
   ]
  },
  {
   "cell_type": "markdown",
   "id": "60610023",
   "metadata": {},
   "source": [
    "# Exploring the regressor variables"
   ]
  },
  {
   "cell_type": "markdown",
   "id": "619cae2e",
   "metadata": {},
   "source": [
    "The regressors all represent a percentage share of the total energy production. <br> <ul>\n",
    "<li>Fossil is the sum of coal, gas, and oil. </li>\n",
    "<li>Renewables is the sum of wind, hydro, solar, biofuel, and other renewables. </li>\n",
    "    <li>Low carbon is the sum of renewables and nuclear. </li></ul>\n",
    "\n",
    "To investigate the correlations between the regressors, we'll use a heatmap because there's a lot of them. <br>\n",
    "We see some expected patterns in the data. Fossil is perfectly correlated to low-carbon, which makes sense since low-carbon was defined as everything that wasn't fossils. <br>"
   ]
  },
  {
   "cell_type": "code",
   "execution_count": null,
   "id": "6613d9bf",
   "metadata": {},
   "outputs": [],
   "source": [
    "regressors = [\"low_carbon_share_energy\",\"renewables_share_energy\",\"fossil_share_energy\",\"biofuel_share_energy\",\"coal_share_energy\",\"gas_share_energy\",\"hydro_share_energy\",\"nuclear_share_energy\",\"oil_share_energy\",\"other_renewables_share_energy\",\"solar_share_energy\",\"wind_share_energy\"]\n",
    "\n",
    "\n",
    "fig, ax = plt.subplots(figsize=(10, 8))\n",
    "mask = np.triu(np.ones_like(data0[regressors].corr(), dtype=np.bool))\n",
    "mask = mask[1:, :-1]\n",
    "corr = data0[regressors].corr().iloc[1:,:-1].copy()\n",
    "cmap = sns.diverging_palette(0, 230, 90, 60, as_cmap=True)\n",
    "sns.heatmap(corr, mask=mask, annot=True, fmt=\".2f\", \n",
    "           linewidths=5, cmap=cmap, vmin=-1, vmax=1, \n",
    "           cbar_kws={\"shrink\": .8}, square=True)\n",
    "yticks = [i.upper() for i in corr.index]\n",
    "xticks = [i.upper() for i in corr.columns]\n",
    "plt.yticks(plt.yticks()[0], labels=yticks, rotation=0)\n",
    "plt.xticks(plt.xticks()[0], labels=xticks)\n",
    "title = 'CORRELATION MATRIX\\n REGRESSORS\\n'\n",
    "plt.title(title, loc='left', fontsize=10)\n",
    "plt.show()\n",
    "\n"
   ]
  },
  {
   "cell_type": "markdown",
   "id": "e48fb914",
   "metadata": {},
   "source": [
    "<p>If we look at the variances of the regressors, we notice that there is a substantial difference in magnitude. Using them all as regressors would make a lot of them redundant (and probably overfit the model to death). So, we should pick a few. </p>\n",
    "<p>For the first model, we will simply use renewables, fossil, and nuclear, because these three cover the rest and are intuitive categories. Later, we will run a PCA and see if maybe we can get a new set of variables to fit a better model. </p>"
   ]
  },
  {
   "cell_type": "code",
   "execution_count": null,
   "id": "8d9c02e9",
   "metadata": {
    "scrolled": true
   },
   "outputs": [],
   "source": [
    "print(\"Variances:\\n\",data0[regressors].var())"
   ]
  },
  {
   "cell_type": "markdown",
   "id": "80715db4",
   "metadata": {},
   "source": [
    "# Exploring the relationship between the regressors and the outcome"
   ]
  },
  {
   "cell_type": "markdown",
   "id": "d5a33506",
   "metadata": {},
   "source": [
    "Now, we're not regressing against time but against the different kinds of energy production, so we should take a look at how those compare to the emissions. Some observations: <ol>\n",
    "<li>Most observations lie on the higher end of fossil fuel shares. That's not too unexpected given that the main source of electricity in the world is still fossil fuels. It seems some countries even reach 100%. The overall trend seems to be a slight linear increase, but with a sudden exponential growth at high values of fossil share. There are also some observations around fossil_share ~ 70 with unusually high ghg emissions that somewhat break the trend. </li> <br>\n",
    "<li>For the renewables share we can make almost identical observations but flipped. The trend looks like a linear decrease with deviations at around 0 and 30 (which are the complements of 100 and 70 from the fossil share plot). </li> <br>\n",
    "<li>The nuclear shares plot has a somewhat similar shape to the renewable one, but with a weaker slope. It also seems less dense. This is actually because there is a large concentration of countries with zero nuclear energy. In fact, more than half of all countries in the list do not have nuclear reactors generating power.</li></ol>"
   ]
  },
  {
   "cell_type": "code",
   "execution_count": null,
   "id": "7c7ead03",
   "metadata": {
    "scrolled": true
   },
   "outputs": [],
   "source": [
    "plt.figure(figsize=(20,5))\n",
    "sns.lmplot(x = \"fossil_share_energy\", y = \"ghg_per_capita\", data = data0)\n",
    "sns.lmplot(x = \"renewables_share_energy\", y = \"ghg_per_capita\", data = data0)\n",
    "sns.lmplot(x = \"nuclear_share_energy\", y = \"ghg_per_capita\", data = data0);"
   ]
  },
  {
   "cell_type": "markdown",
   "id": "3ecfe32f",
   "metadata": {},
   "source": [
    "Let's investigate the nuclear power issue further. In fact, 59.5% of countries have never had nuclear power (at least as of 2016), and 62.0% of them have not had nuclear power at some point (between 1990 and 2016)."
   ]
  },
  {
   "cell_type": "code",
   "execution_count": null,
   "id": "9193a434",
   "metadata": {},
   "outputs": [],
   "source": [
    "datasum = data0[['country','ghg_per_capita','nuclear_share_energy','renewables_share_energy','fossil_share_energy']].groupby(['country']).sum()\n",
    "datasum['country']=datasum.index\n",
    "datasum[\"total_energy\"]=datasum.nuclear_share_energy+datasum.renewables_share_energy+datasum.fossil_share_energy\n",
    "print(\"Percentage of countries that never had nuclear power:\" , len(datasum[datasum['nuclear_share_energy']==0])/len(datasum))\n",
    "print(\"Percentage of countries that did not consistently have nuclear power between 1990 and 2016: \" , len(data0[data0['nuclear_share_energy']==0])/len(data0))\n"
   ]
  },
  {
   "cell_type": "markdown",
   "id": "55150148",
   "metadata": {},
   "source": [
    "Taking a look at the distributions of our three regressors, we see that they are all heavily skewed, which is in line with our observations in the previous plots. However, nuclear power is, as expected, even worse."
   ]
  },
  {
   "cell_type": "code",
   "execution_count": null,
   "id": "7733143e",
   "metadata": {
    "scrolled": true
   },
   "outputs": [],
   "source": [
    "sns.distplot(data0.nuclear_share_energy)\n",
    "plt.figure()\n",
    "sns.distplot(data0.fossil_share_energy)\n",
    "plt.figure()\n",
    "sns.distplot(data0.renewables_share_energy);"
   ]
  },
  {
   "cell_type": "markdown",
   "id": "5fd41da3",
   "metadata": {},
   "source": [
    "Taking a look at the distribution of nuclear shares when we ignore the countries without nuclear power, we see it is still heavily skewed towards the lower end, with a median of ~10."
   ]
  },
  {
   "cell_type": "code",
   "execution_count": null,
   "id": "067e605d",
   "metadata": {
    "scrolled": false
   },
   "outputs": [],
   "source": [
    "sns.distplot(data0.nuclear_share_energy[data0.nuclear_share_energy !=0])\n",
    "plt.figure()\n",
    "print(\"median:\" , stats.median(data0.nuclear_share_energy[data0.nuclear_share_energy !=0]))"
   ]
  },
  {
   "cell_type": "markdown",
   "id": "f0074b02",
   "metadata": {},
   "source": [
    "All these reasons would make regressing against nuclear_share_energy difficult, as the model would forcefully try to fit the odd data. However, removing all countries without nuclear power would leave us with a 60% reduced dataset, which is undesirable. Therefore, a good compromise is to categorise nuclear_share_energy into three groups: <ol>\n",
    "<li>No nuclear power </li>\n",
    "<li>Nuclear power representing 0 to 10% (the median) of total output </li>\n",
    "<li>Nuclear power representing >10% of total output. </li> </ol>\n",
    "However, this can fluctuate: a country might cross this threshold at some point. To avoid overfitting the curvature of each country, we will categorize based on *total* energy production over the entire time span 1990-2016. So a country will end up in the higher category only if >10% of their total energy production was nuclear."
   ]
  },
  {
   "cell_type": "code",
   "execution_count": null,
   "id": "cb70643e",
   "metadata": {},
   "outputs": [],
   "source": [
    "for i in set(datasum['country']):\n",
    "    if datasum.loc[i,'nuclear_share_energy'] == 0:\n",
    "        for j in data0.index[data0[\"country\"]==i]:\n",
    "            data0.loc[j,'nuclear'] = \"No\"\n",
    "    elif 0<datasum.loc[i,'nuclear_share_energy']/datasum.loc[i,'total_energy']<0.1:\n",
    "         for j in data0.index[data0[\"country\"]==i]:\n",
    "            data0.loc[j,'nuclear'] = \"<10%\"\n",
    "    else:    \n",
    "        for j in data0.index[data0[\"country\"]==i]:\n",
    "            data0.loc[j,'nuclear'] = \">10%\""
   ]
  },
  {
   "cell_type": "markdown",
   "id": "24e84511",
   "metadata": {},
   "source": [
    "<p>So now we have our regressors. However, a regular linear regression wouldn't cut it, because we would be violating one of the key assumptions: the independence of measurements. Indeed, two observations in a linear regression need to be independent of each other. Violating this assumption may lead to a substantial loss of power. </p>\n",
    "<p>In our dataset, it would intuitively make sense for observations from the same country to be correlated. This is confirmed in the following graphs. These are the same as the regressor vs ghg graphs from before, but now dots corresponding to the same country are connected. These graphs reveal a large amount of autocorrelation on both axes: countries that start low, tend to stay low, and vice versa.</p>"
   ]
  },
  {
   "cell_type": "code",
   "execution_count": null,
   "id": "c4019404",
   "metadata": {
    "scrolled": true
   },
   "outputs": [],
   "source": [
    "fig = plt.figure()\n",
    "ax = plt.subplot(111)\n",
    "fig.suptitle('Individual profiles of country co2 emissions vs share of renewable energy')\n",
    "plt.xlabel('renewables_share_energy')\n",
    "plt.ylabel('ghg_per_capita')\n",
    "plt.ylim([0,40])\n",
    "for i in set(data0['country']):\n",
    "    country_i = data0.loc[data0['country'] == i]\n",
    "    x=country_i['renewables_share_energy']\n",
    "    y=country_i['ghg_per_capita']\n",
    "    order = np.argsort(x)\n",
    "    xs = np.array(x)[order]\n",
    "    ys = np.array(y)[order]\n",
    "    ax.plot(xs, ys)\n",
    "plt.show()\n",
    "fig = plt.figure()\n",
    "ax = plt.subplot(111)\n",
    "fig.suptitle('Individual profiles of country co2 emissions vs share of nuclear energy')\n",
    "plt.xlabel('nuclear_share_energy')\n",
    "plt.ylabel('ghg_per_capita')\n",
    "plt.ylim([0,40])\n",
    "for i in set(data0['country']):\n",
    "    country_i = data0.loc[data0['country'] == i]\n",
    "    x=country_i['nuclear_share_energy']\n",
    "    y=country_i['ghg_per_capita']\n",
    "    order = np.argsort(x)\n",
    "    xs = np.array(x)[order]\n",
    "    ys = np.array(y)[order]\n",
    "    ax.plot(xs, ys)\n",
    "plt.show()\n",
    "fig = plt.figure()\n",
    "ax = plt.subplot(111)\n",
    "fig.suptitle('Individual profiles of country co2 emissions vs share of fossil energy')\n",
    "plt.xlabel('fossil_share_energy')\n",
    "plt.ylabel('ghg_per_capita')\n",
    "plt.ylim([0,40])\n",
    "for i in set(data0['country']):\n",
    "    country_i = data0.loc[data0['country'] == i]\n",
    "    x=country_i['fossil_share_energy']\n",
    "    y=country_i['ghg_per_capita']\n",
    "    order = np.argsort(x)\n",
    "    xs = np.array(x)[order]\n",
    "    ys = np.array(y)[order]\n",
    "    ax.plot(xs, ys)\n",
    "plt.show()"
   ]
  },
  {
   "cell_type": "markdown",
   "id": "cad5cb33",
   "metadata": {},
   "source": [
    "This assumption being violated is a pretty big deal. Luckily, mixed models can save us. By taking into account the between-country variability with an additional random term we can get some of our lost power back and reveal the hidden trends."
   ]
  },
  {
   "cell_type": "markdown",
   "id": "fb14ef80",
   "metadata": {},
   "source": [
    "# The first model"
   ]
  },
  {
   "cell_type": "markdown",
   "id": "e9fe2b67",
   "metadata": {},
   "source": [
    "So we are now running the mixed model. <br>\n",
    "We are regressing total greenhouse gas production against share of fossil energy and share of renewable energy, while correcting the intercept for nuclear power capabilities. <br>\n",
    "We also add allow for random intercepts and random slope effects for each country.<br>\n",
    "\n",
    "<p><b>Conclusions from this model </b></p>\n",
    "<p>Both the share of fossil energy and renewable energy comes out significant (although the latter one is borderline). As expected, a larger share of fossil fuels increases ghg emissions, and a larger share of renewables decreases ghg emissions. The magnitude of these two effects is more or less equal but opposite. The interpretation of this coefficient would be \"for each unit increase (1%) in share of fossil fuel energy production, the output of total ghg increases by about 0.202 tonnes of CO2-equivalent per capita, controlling for nuclear energy and renewable energy\". </p>\n",
    "<p>The intercept does not significantly differ based on countries' nuclear capabilities. The intercept is essentially the ghg output for a country with zero fossil or renewable energies, and the model states that the ghg emissions for such a country do not depend on whether or not it has nuclear power generators. However, the intercept is seldom informative because we are extrapolating outside our (already messy) dataset. </p>"
   ]
  },
  {
   "cell_type": "code",
   "execution_count": null,
   "id": "533a1032",
   "metadata": {
    "scrolled": false
   },
   "outputs": [],
   "source": [
    "md = smf.mixedlm(\"ghg_per_capita ~ fossil_share_energy+renewables_share_energy+C(nuclear,Treatment(reference='No'))\", \n",
    "                 data0, \n",
    "                 groups=data0[\"country\"],\n",
    "                re_formula=\"~fossil_share_energy+renewables_share_energy\")\n",
    "mdf=md.fit()\n",
    "print(mdf.summary())\n",
    "print(\"residual variance:\" , stats.variance(mdf.resid.values))"
   ]
  },
  {
   "cell_type": "markdown",
   "id": "9d7bef51",
   "metadata": {},
   "source": [
    "We can also use this model to make predictions about a hypothetical country's ghg output given its energy production capabilities. Note that the limitations of our model are apparent here: for any predictions that have a share of fossil generated energy of less than 40%, the predicted ghg output per capita is negative. It's technically not extrapolation, because the lowest value for fossil_share_energy in our dataset is 17%, but only ~3.5% of observations had values under 40%. Still, we should be careful about making inferences like this without taking the random effects of the specific country into account."
   ]
  },
  {
   "cell_type": "code",
   "execution_count": null,
   "id": "4ee433da",
   "metadata": {},
   "outputs": [],
   "source": [
    "Fossil_percent = list(range(round(data0[\"fossil_share_energy\"].min()),round(data0[\"fossil_share_energy\"].max())))\n",
    "Renewables_percent = list(range(round(data0[\"renewables_share_energy\"].min()),round(data0[\"renewables_share_energy\"].max())))\n",
    "Nuclear_percent = list(['No','<10%','>10%'])\n",
    "def f(Fossil_percent, Renewables_percent,Nuclear_percent):\n",
    "    ex = pd.DataFrame({'fossil_share_energy': [Fossil_percent], 'renewables_share_energy': [Renewables_percent], 'nuclear': [Nuclear_percent]})\n",
    "    print(mdf.predict(exog=ex))\n",
    "interactive(f, Fossil_percent=Fossil_percent, Renewables_percent = Renewables_percent, Nuclear_percent=Nuclear_percent)"
   ]
  },
  {
   "cell_type": "markdown",
   "id": "767123bc",
   "metadata": {},
   "source": [
    "<p>Assessing model fit for a mixed model is not as straightforward as for a non-mixed model, but a good way to start is by comparing the variance terms. </p>\n",
    "<p>The residual variance has been printed underneath the output, and is equal to ~3. Meanwhile, the between-country variance is ~596. This implies that the vast majority of variability in our dataset is country-specific noise, rather than residual noise. This shows the importance of accounting for autocorrelation in such a dataset. However, it also suggests that the effects we detected are only a fraction of what is 'really going on'. This also makes sense. A countries' GHG emissions depend on much more than just its energy production. </p>\n",
    "<p>We should also check the assumptions of this model. Residual plots are useful for this.\n",
    "Residuals vs Predicted: The size of the residuals is pretty constant over the whole spectrum of predicted values. This implies that a linear mixed model fits the data and that there is no need to use generalized mixed models. </p>\n",
    "<p> <i>Residuals vs regressor variables: </i>These plots should ideally be constant, yet we see a funnel shape in both of them. Deviations in these plots can often be an indication of a missing higher-order term. However, there is no clear polynomial structure in these plots. We suspect the funnel shape is caused by the serious imbalance in the data (the majority of countries have low renewables, high fossils).</p>\n",
    "<p> <i>Residuals vs random effects: </i>An assumption of any linear model is the normality of the random effects (with mean zero). The residual random term has a nice looking gaussian histogram with a variance of 2.94 (residual variance). The group, fossil_share, and renewables_share distributions are skewed. Linear regressions are usually pretty robust against violations of normality, though. The variance of the group effect is 595.79. The variance of the random fossil term is 0.111. Taking into account that the estimated mean slope for the fossil effect was 0.202, shows that a variance of 0.111 is substantial. This means that the effect of reducing/increasing fossil fuel energy production depends substantially by country. The same reasoning can be made with the renewables error term that has a variance 0.230.</p>\n"
   ]
  },
  {
   "cell_type": "code",
   "execution_count": null,
   "id": "9106cf79",
   "metadata": {},
   "outputs": [],
   "source": [
    "modelfit = pd.DataFrame()\n",
    "modelfit[\"residuals\"] = mdf.resid.values\n",
    "modelfit[\"predicted\"] = mdf.fittedvalues\n",
    "modelfit[\"fossils\"] = data0[\"fossil_share_energy\"]\n",
    "modelfit[\"renewables\"] = data0[\"renewables_share_energy\"]\n",
    "\n",
    "sns.lmplot(x=\"predicted\", y=\"residuals\", data=modelfit)\n",
    "plt.figure()\n",
    "sns.lmplot(x=\"fossils\", y=\"residuals\", data=modelfit)\n",
    "plt.figure()\n",
    "sns.lmplot(x=\"renewables\", y=\"residuals\", data=modelfit)\n",
    "plt.figure()\n",
    "sns.distplot(modelfit[\"residuals\"])\n",
    "randeffects = pd.DataFrame.from_dict(mdf.random_effects).transpose()\n",
    "plt.figure()\n",
    "sns.distplot(randeffects[\"Group\"])\n",
    "plt.figure()\n",
    "sns.distplot(randeffects[\"fossil_share_energy\"])\n",
    "plt.figure()\n",
    "sns.distplot(randeffects[\"renewables_share_energy\"]);"
   ]
  },
  {
   "cell_type": "markdown",
   "id": "b7eda983",
   "metadata": {},
   "source": [
    "# The PCA model"
   ]
  },
  {
   "cell_type": "markdown",
   "id": "31aa1e02",
   "metadata": {},
   "source": [
    "We started this analysis with a large number of covariates, but we ended up running a model with only three. That is of course because we grouped them together in three categories that made sense to us. However, these categories are constructed based on real-life interpretation of these energies, not based on what the data tells us. So instead let's run a PCA to see how a purely data-driven technique would allocate the variability of our regressors if it was constrained to two or three components. We'll now be leaving out the grouped variables (fossil, renewables, low carbon). Let's first take a look again at the variances of each variable. Since PCA as a method relies on grouping together variance, these large differences in magnitude will be problematic. Variables like 'solar_share_energy' and 'biofuel_share_energy' are unlikely to have any meaningful loadings."
   ]
  },
  {
   "cell_type": "code",
   "execution_count": null,
   "id": "ce20ac85",
   "metadata": {
    "scrolled": true
   },
   "outputs": [],
   "source": [
    "datapca = data0[[\n",
    "\"biofuel_share_energy\",\"coal_share_energy\",\"gas_share_energy\",\"hydro_share_energy\",\"oil_share_energy\",\"other_renewables_share_energy\",\"solar_share_energy\",\"wind_share_energy\"\n",
    "]]\n",
    "print(\"Variances:\\n\" , datapca.var())"
   ]
  },
  {
   "cell_type": "markdown",
   "id": "c57c3dc3",
   "metadata": {},
   "source": [
    "And indeed, the PCA confirms this. We see that more than 90% of the variability in the dataset can be explained by the first two components, whose weights are mostly gas, coal, and oil. Interestingly though, oil seems to be negatively correlated to coal (both loading strongly but oppositely on the same component)."
   ]
  },
  {
   "cell_type": "code",
   "execution_count": null,
   "id": "d335072b",
   "metadata": {},
   "outputs": [],
   "source": [
    "values = datapca.values\n",
    "pca = PCA()\n",
    "pca.fit(values)\n",
    "fig,ax = plt.subplots(1,1,figsize=(15,5))\n",
    "ax.plot(np.arange(0,len(datapca.columns)),100*np.cumsum(pca.explained_variance_ratio_));\n",
    "ax.set_ylabel('% Variance Explained')\n",
    "ax.set_xlabel('EigenVectors considered');\n",
    "pca.components_.T\n",
    "loadings = pd.DataFrame(pca.components_.T, columns=['PC1', 'PC2','PC3','PC4','PC5','PC6','PC7','PC8'], index=[\n",
    "\"biofuel_share_energy\",\"coal_share_energy\",\"gas_share_energy\",\"hydro_share_energy\",\"oil_share_energy\",\"other_renewables_share_energy\",\"solar_share_energy\",\"wind_share_energy\"\n",
    "])\n",
    "display(loadings)\n",
    "\n",
    "Index= [\"biofuel_share_energy\",\"coal_share_energy\",\"gas_share_energy\",\"hydro_share_energy\",\"oil_share_energy\",\"other_renewables_share_energy\",\"solar_share_energy\",\"wind_share_energy\"]\n",
    "Cols = ['PC1', 'PC2','PC3','PC4','PC5','PC6','PC7','PC8']\n",
    "df = pd.DataFrame(loadings, index=Index, columns=Cols)\n",
    "plt.figure()\n",
    "\n",
    "sns.heatmap(df, annot=True)"
   ]
  },
  {
   "cell_type": "markdown",
   "id": "920e9c76",
   "metadata": {},
   "source": [
    "<p>To counteract the dominance of the three fossil fuel energies, we're going to standardise all variables and run a PCA again. </p>\n",
    "<p>The results are a mixed bag. On the one hand, all variables now get a chance to shine, on the other hand, that's because none of the components explain much variability at all. We could use like 5 or 6 of them, but that would defeat the point of dimension reduction. So, we're going to use the first three. Note that these only account for about 70% of the variability in our dataset, which means that right off the bat this model's conclusions might be biased. </p><ul>\n",
    "<li>Component 1 seems to positively correlate with renewable energies (mostly hydro and other renewables). It is negatively correlated with gas. </li>\n",
    "<li>Component 2 seems to be positively correlated with coal, solar, and wind. </li>\n",
    "    <li>Component 3 seems to be positive for gas, negative for coal.</li></ul>"
   ]
  },
  {
   "cell_type": "code",
   "execution_count": null,
   "id": "65e61363",
   "metadata": {},
   "outputs": [],
   "source": [
    "df = [\n",
    "\"biofuel_share_energy\",\"coal_share_energy\",\"gas_share_energy\",\"hydro_share_energy\",\"oil_share_energy\",\"other_renewables_share_energy\",\"solar_share_energy\",\"wind_share_energy\"\n",
    "]\n",
    "\n",
    "for item in df :\n",
    "    item_std = item+\"_std\"\n",
    "    data0[item_std] = (data0[item] - data0[item].mean()) / data0[item].std()\n",
    "datapca = data0[[\n",
    "\"biofuel_share_energy_std\",\"coal_share_energy_std\",\"gas_share_energy_std\",\"hydro_share_energy_std\",\"oil_share_energy_std\",\"other_renewables_share_energy_std\",\"solar_share_energy_std\",\"wind_share_energy_std\"\n",
    "]]\n",
    "values = datapca.values\n",
    "pca = PCA()\n",
    "pca.fit(values)\n",
    "fig,ax = plt.subplots(1,1,figsize=(15,5))\n",
    "ax.plot(np.arange(0,len(datapca.columns)),100*np.cumsum(pca.explained_variance_ratio_));\n",
    "ax.set_ylabel('% Variance Explained')\n",
    "ax.set_xlabel('EigenVectors considered');\n",
    "pca.components_.T\n",
    "loadings = pd.DataFrame(pca.components_.T, columns=['PC1', 'PC2','PC3','PC4','PC5','PC6','PC7','PC8'], index=[\n",
    "\"biofuel_share_energy\",\"coal_share_energy\",\"gas_share_energy\",\"hydro_share_energy\",\"oil_share_energy\",\"other_renewables_share_energy\",\"solar_share_energy\",\"wind_share_energy\"\n",
    "])\n",
    "display(loadings)\n",
    "\n",
    "Index= [\"biofuel_share_energy\",\"coal_share_energy\",\"gas_share_energy\",\"hydro_share_energy\",\"oil_share_energy\",\"other_renewables_share_energy\",\"solar_share_energy\",\"wind_share_energy\"]\n",
    "Cols = ['PC1', 'PC2','PC3','PC4','PC5','PC6','PC7','PC8']\n",
    "df = pd.DataFrame(loadings, index=Index, columns=Cols)\n",
    "plt.figure()\n",
    "\n",
    "sns.heatmap(df, annot=True)"
   ]
  },
  {
   "cell_type": "markdown",
   "id": "8cff887e",
   "metadata": {},
   "source": [
    "So let's run a 3 component pca again and extract our new dataset of covariates:"
   ]
  },
  {
   "cell_type": "code",
   "execution_count": null,
   "id": "1855dc85",
   "metadata": {
    "scrolled": true
   },
   "outputs": [],
   "source": [
    "pca3 = PCA(n_components=3)\n",
    "values = datapca.values\n",
    "pca3.fit(values)\n",
    "t = datapca.index\n",
    "Z=pd.DataFrame(pca3.transform(datapca))\n",
    "Z.columns = ['Renew_vs_Gas','CoalandWindandSolar_vs_Hydro', 'Gas_vs_Coal']\n",
    "Z.index = data0.index\n",
    "Z[\"country\"] = data0.country\n",
    "newdata = pd.concat([Z, data0[['ghg_per_capita','nuclear']]], axis=1)\n",
    "display(newdata)"
   ]
  },
  {
   "cell_type": "markdown",
   "id": "eb9da281",
   "metadata": {},
   "source": [
    "<p>And let's run the model. We are not running random slope effects anymore. Doing so prevents the model from converging. In mixed models, this is typically the result of overfitting. After all, having four random effects would make the covariance structure quite complex. Instead, we just run random intercepts based on country. </p>\n",
    "<p>The conclusions regarding the intercept are the same as before: The nuclear capabilities of the country do not have an effect. All slopes are significant: <ol>\n",
    "<li>Increasing gas/reducing renewables (biofuel, hydro, other renewables) increases ghg emissions. This is expected </li>\n",
    "<li>Increases coal, wind, and solar/decreasing hydro increases ghg emissions. It's hard to tell if wind and solar legitimately contribute to ghg emissions or if the coal part of the principal component dominates. The conclusion for hydro makes sense. </li>\n",
    "<li>Increasing gas/decreasing coal *decreases* ghg emissions. An interesting observation that is also in line with our knowledge. Natural gas burning is known to produce a lot fewer emissions compared to coal burning.</li></ol> </p> "
   ]
  },
  {
   "cell_type": "code",
   "execution_count": null,
   "id": "f8d7c800",
   "metadata": {
    "scrolled": true
   },
   "outputs": [],
   "source": [
    "mdpca = smf.mixedlm(\"ghg_per_capita ~ Renew_vs_Gas+CoalandWindandSolar_vs_Hydro+Gas_vs_Coal+C(nuclear,Treatment(reference='No'))\", \n",
    "                 newdata, \n",
    "                 groups=newdata[\"country\"])\n",
    "mdfpca=mdpca.fit()\n",
    "print(mdfpca.summary())\n",
    "print(\"Residual variance:\",stats.variance(mdfpca.resid.values))"
   ]
  },
  {
   "cell_type": "markdown",
   "id": "29f69c10",
   "metadata": {},
   "source": [
    "We can again take a look at the model fit. The residual variance is nearly identical, being 3.6 (compared to 2.9 before). The between-country variance however is a lot lower than it was in the first model (54 compared to 596). So comparatively, this model captures a 'larger' part of the variability in its fixed effects. Although we must recall that only ~70% of the total variability in our covariates is accounted for. \n",
    "<p>Taking a look at the residual plots. The conclusions are pretty much the same as for the first model.</p>"
   ]
  },
  {
   "cell_type": "code",
   "execution_count": null,
   "id": "74876ef7",
   "metadata": {
    "scrolled": true
   },
   "outputs": [],
   "source": [
    "modelfitpca = pd.DataFrame()\n",
    "modelfitpca[\"residuals\"] = mdfpca.resid.values\n",
    "modelfitpca[\"predicted\"] = mdfpca.fittedvalues\n",
    "modelfitpca[\"Renew_vs_Gas\"] = Z[\"Renew_vs_Gas\"]\n",
    "modelfitpca[\"CoalandWindandSolar_vs_Hydro\"] = Z[\"CoalandWindandSolar_vs_Hydro\"]\n",
    "modelfitpca[\"Gas_vs_Coal\"] = Z[\"Gas_vs_Coal\"]\n",
    "\n",
    "sns.lmplot(x=\"predicted\", y=\"residuals\", data=modelfitpca)\n",
    "plt.figure()\n",
    "sns.lmplot(x=\"Renew_vs_Gas\", y=\"residuals\", data=modelfitpca)\n",
    "plt.figure()\n",
    "sns.lmplot(x=\"CoalandWindandSolar_vs_Hydro\", y=\"residuals\", data=modelfitpca)\n",
    "plt.figure()\n",
    "sns.lmplot(x=\"Gas_vs_Coal\", y=\"residuals\", data=modelfitpca)\n",
    "plt.figure()\n",
    "sns.distplot(modelfitpca[\"residuals\"])\n",
    "randeffectspca = pd.DataFrame.from_dict(mdfpca.random_effects).transpose()\n",
    "plt.figure()\n",
    "sns.distplot(randeffectspca[\"Group\"]);"
   ]
  },
  {
   "cell_type": "markdown",
   "id": "f6227b6b",
   "metadata": {},
   "source": [
    "# Conclusions"
   ]
  },
  {
   "cell_type": "markdown",
   "id": "c4029882",
   "metadata": {},
   "source": [
    "Our analysis included the annual energy production composition of 74 countries as well as their annual per capita greenhouse gas emissions from 1990 to 2016. We recall that a \"unit\" of ghg is expressed in tonnes of CO2-equivalent (when considering the potential for greenhouse effect).\n",
    "The conclusions of our analysis are the following: <ol>\n",
    "<li>The variability between countries is much greater than the variability within countries. Suggesting that there are larger factors at play that impact a countries' ghg emissions, besides their energy production. </li> <br>\n",
    "Still, some significant trends were found: <br>\n",
    "<br><li>A higher share of renewable energies tends to lead to less ghg emissions, *on average*. In fact, for every 1% of the energy production that is switched over to renewables, the country will produce about 0.199 units of ghg per capita per year less, <i>on average</i>, keeping fossil share energy and nuclear energy constant. </li>\n",
    "<br><li>Similarly, for every 1% of the energy production that is switched over to fossil energy, the country will produce about 0.202 units of ghg per capita per year more, <i>on average</i>, controlling for renewable energy and nuclear energy. </li>\n",
    "<br><li>The share of energy that is generated by nuclear facilities does not seem to have an impact on the units of ghg per capita per year produced, <i>on average</i>. </li>\n",
    "<br><li>If using fossil fuels is inevitable, using natural gas is preferable to using coal (if only ghg emissions are considered). </li><br>\n",
    "So can we use this to make predictions? <br>\n",
    "<br><li>Making country-specific predictions is difficult, because it requires accurate estimation of the random effects, which can be difficult given the noise in the data. This model is more valuable for comparing the average effect of different energy production types on ghg emissions.</li></ol>"
   ]
  }
 ],
 "metadata": {
  "kernelspec": {
   "display_name": "Python 3",
   "language": "python",
   "name": "python3"
  },
  "language_info": {
   "codemirror_mode": {
    "name": "ipython",
    "version": 3
   },
   "file_extension": ".py",
   "mimetype": "text/x-python",
   "name": "python",
   "nbconvert_exporter": "python",
   "pygments_lexer": "ipython3",
   "version": "3.8.0"
  },
  "toc": {
   "base_numbering": 1,
   "nav_menu": {},
   "number_sections": true,
   "sideBar": true,
   "skip_h1_title": false,
   "title_cell": "Table of Contents",
   "title_sidebar": "Contents",
   "toc_cell": false,
   "toc_position": {},
   "toc_section_display": true,
   "toc_window_display": false
  }
 },
 "nbformat": 4,
 "nbformat_minor": 5
}
